{
 "cells": [
  {
   "cell_type": "code",
   "execution_count": 1,
   "metadata": {},
   "outputs": [],
   "source": [
    "import os\n",
    "import pandas as pd\n",
    "%matplotlib inline\n",
    "import matplotlib.pyplot as plt\n",
    "import numpy as np\n",
    "import tensorflow as tf\n",
    "from tensorflow import keras\n",
    "import warnings\n",
    "warnings.filterwarnings(\"ignore\")\n",
    "from sklearn.model_selection import train_test_split"
   ]
  },
  {
   "cell_type": "code",
   "execution_count": 2,
   "metadata": {},
   "outputs": [
    {
     "name": "stdout",
     "output_type": "stream",
     "text": [
      "2.2.4-tf\n"
     ]
    }
   ],
   "source": [
    "print(keras.__version__)"
   ]
  },
  {
   "cell_type": "markdown",
   "metadata": {},
   "source": [
    "# Loading data for training the model"
   ]
  },
  {
   "cell_type": "code",
   "execution_count": 6,
   "metadata": {},
   "outputs": [
    {
     "data": {
      "text/html": [
       "<div>\n",
       "<style scoped>\n",
       "    .dataframe tbody tr th:only-of-type {\n",
       "        vertical-align: middle;\n",
       "    }\n",
       "\n",
       "    .dataframe tbody tr th {\n",
       "        vertical-align: top;\n",
       "    }\n",
       "\n",
       "    .dataframe thead th {\n",
       "        text-align: right;\n",
       "    }\n",
       "</style>\n",
       "<table border=\"1\" class=\"dataframe\">\n",
       "  <thead>\n",
       "    <tr style=\"text-align: right;\">\n",
       "      <th></th>\n",
       "      <th>id_code</th>\n",
       "      <th>diagnosis</th>\n",
       "      <th>path</th>\n",
       "    </tr>\n",
       "  </thead>\n",
       "  <tbody>\n",
       "    <tr>\n",
       "      <th>0</th>\n",
       "      <td>000c1434d8d7.png</td>\n",
       "      <td>2</td>\n",
       "      <td>/home/raghav/APTOS Kaggle Comp/train_images/00...</td>\n",
       "    </tr>\n",
       "    <tr>\n",
       "      <th>1</th>\n",
       "      <td>001639a390f0.png</td>\n",
       "      <td>4</td>\n",
       "      <td>/home/raghav/APTOS Kaggle Comp/train_images/00...</td>\n",
       "    </tr>\n",
       "    <tr>\n",
       "      <th>2</th>\n",
       "      <td>0024cdab0c1e.png</td>\n",
       "      <td>1</td>\n",
       "      <td>/home/raghav/APTOS Kaggle Comp/train_images/00...</td>\n",
       "    </tr>\n",
       "    <tr>\n",
       "      <th>3</th>\n",
       "      <td>002c21358ce6.png</td>\n",
       "      <td>0</td>\n",
       "      <td>/home/raghav/APTOS Kaggle Comp/train_images/00...</td>\n",
       "    </tr>\n",
       "    <tr>\n",
       "      <th>4</th>\n",
       "      <td>005b95c28852.png</td>\n",
       "      <td>0</td>\n",
       "      <td>/home/raghav/APTOS Kaggle Comp/train_images/00...</td>\n",
       "    </tr>\n",
       "    <tr>\n",
       "      <th>5</th>\n",
       "      <td>0083ee8054ee.png</td>\n",
       "      <td>4</td>\n",
       "      <td>/home/raghav/APTOS Kaggle Comp/train_images/00...</td>\n",
       "    </tr>\n",
       "    <tr>\n",
       "      <th>6</th>\n",
       "      <td>0097f532ac9f.png</td>\n",
       "      <td>0</td>\n",
       "      <td>/home/raghav/APTOS Kaggle Comp/train_images/00...</td>\n",
       "    </tr>\n",
       "    <tr>\n",
       "      <th>7</th>\n",
       "      <td>00a8624548a9.png</td>\n",
       "      <td>2</td>\n",
       "      <td>/home/raghav/APTOS Kaggle Comp/train_images/00...</td>\n",
       "    </tr>\n",
       "    <tr>\n",
       "      <th>8</th>\n",
       "      <td>00b74780d31d.png</td>\n",
       "      <td>2</td>\n",
       "      <td>/home/raghav/APTOS Kaggle Comp/train_images/00...</td>\n",
       "    </tr>\n",
       "    <tr>\n",
       "      <th>9</th>\n",
       "      <td>00cb6555d108.png</td>\n",
       "      <td>1</td>\n",
       "      <td>/home/raghav/APTOS Kaggle Comp/train_images/00...</td>\n",
       "    </tr>\n",
       "  </tbody>\n",
       "</table>\n",
       "</div>"
      ],
      "text/plain": [
       "            id_code diagnosis  \\\n",
       "0  000c1434d8d7.png         2   \n",
       "1  001639a390f0.png         4   \n",
       "2  0024cdab0c1e.png         1   \n",
       "3  002c21358ce6.png         0   \n",
       "4  005b95c28852.png         0   \n",
       "5  0083ee8054ee.png         4   \n",
       "6  0097f532ac9f.png         0   \n",
       "7  00a8624548a9.png         2   \n",
       "8  00b74780d31d.png         2   \n",
       "9  00cb6555d108.png         1   \n",
       "\n",
       "                                                path  \n",
       "0  /home/raghav/APTOS Kaggle Comp/train_images/00...  \n",
       "1  /home/raghav/APTOS Kaggle Comp/train_images/00...  \n",
       "2  /home/raghav/APTOS Kaggle Comp/train_images/00...  \n",
       "3  /home/raghav/APTOS Kaggle Comp/train_images/00...  \n",
       "4  /home/raghav/APTOS Kaggle Comp/train_images/00...  \n",
       "5  /home/raghav/APTOS Kaggle Comp/train_images/00...  \n",
       "6  /home/raghav/APTOS Kaggle Comp/train_images/00...  \n",
       "7  /home/raghav/APTOS Kaggle Comp/train_images/00...  \n",
       "8  /home/raghav/APTOS Kaggle Comp/train_images/00...  \n",
       "9  /home/raghav/APTOS Kaggle Comp/train_images/00...  "
      ]
     },
     "execution_count": 6,
     "metadata": {},
     "output_type": "execute_result"
    }
   ],
   "source": [
    "base_image_dir = os.path.join('/home/raghav/APTOS Kaggle Comp')\n",
    "train_dir = os.path.join(base_image_dir,'train_images/')\n",
    "data = pd.read_csv(os.path.join(base_image_dir, 'train.csv'))\n",
    "data[\"diagnosis\"] = data[\"diagnosis\"].astype(str)\n",
    "data['path'] = data['id_code'].map(lambda x: os.path.join(train_dir,'{}.png'.format(x)))\n",
    "data[\"id_code\"]=data[\"id_code\"].apply(lambda x:x+\".png\")\n",
    "#data = data.drop(columns=['id_code'])\n",
    "#data = data.sample(frac=1).reset_index(drop=True) #shuffle dataframe\n",
    "data.head(10)"
   ]
  },
  {
   "cell_type": "code",
   "execution_count": 8,
   "metadata": {},
   "outputs": [],
   "source": [
    "train,test = train_test_split(data,test_size=0.10,random_state=42,stratify=data['diagnosis'])"
   ]
  },
  {
   "cell_type": "code",
   "execution_count": 9,
   "metadata": {},
   "outputs": [
    {
     "data": {
      "text/plain": [
       "367"
      ]
     },
     "execution_count": 9,
     "metadata": {},
     "output_type": "execute_result"
    }
   ],
   "source": [
    "len(test)"
   ]
  },
  {
   "cell_type": "markdown",
   "metadata": {},
   "source": [
    "# Looking at the distribution of test and train"
   ]
  },
  {
   "cell_type": "code",
   "execution_count": 13,
   "metadata": {},
   "outputs": [
    {
     "data": {
      "text/plain": [
       "<matplotlib.axes._subplots.AxesSubplot at 0x7f35b92c4588>"
      ]
     },
     "execution_count": 13,
     "metadata": {},
     "output_type": "execute_result"
    },
    {
     "data": {
      "image/png": "[encoded data removed]",
      "text/plain": [
       "<Figure size 864x360 with 1 Axes>"
      ]
     },
     "metadata": {
      "needs_background": "light"
     },
     "output_type": "display_data"
    }
   ],
   "source": [
    "# Look at the distribution of Train Labels\n",
    "train['diagnosis'].value_counts().sort_index().plot(kind=\"bar\", \n",
    "                                                      figsize=(12,5), \n",
    "                                                      rot=0)"
   ]
  },
  {
   "cell_type": "code",
   "execution_count": 14,
   "metadata": {},
   "outputs": [
    {
     "data": {
      "text/plain": [
       "<matplotlib.axes._subplots.AxesSubplot at 0x7f35b91f1e80>"
      ]
     },
     "execution_count": 14,
     "metadata": {},
     "output_type": "execute_result"
    },
    {
     "data": {
      "image/png": "[encoded data removed]",
      "text/plain": [
       "<Figure size 864x360 with 1 Axes>"
      ]
     },
     "metadata": {
      "needs_background": "light"
     },
     "output_type": "display_data"
    }
   ],
   "source": [
    "# Look at the distribution of Test labels\n",
    "test['diagnosis'].value_counts().sort_index().plot(kind=\"bar\", \n",
    "                                                      figsize=(12,5), \n",
    "                                                      rot=0)"
   ]
  },
  {
   "cell_type": "code",
   "execution_count": 15,
   "metadata": {},
   "outputs": [],
   "source": [
    "#Intializing the variables needed for the model\n",
    "nb_classes = 5\n",
    "lbls = list(map(str, range(nb_classes)))\n",
    "batch_size = 100\n",
    "img_size = 64\n",
    "nb_epochs = 100"
   ]
  },
  {
   "cell_type": "code",
   "execution_count": 18,
   "metadata": {},
   "outputs": [
    {
     "name": "stdout",
     "output_type": "stream",
     "text": [
      "Found 2472 images belonging to 5 classes.\n",
      "Found 823 images belonging to 5 classes.\n",
      "Found 367 images belonging to 5 classes.\n"
     ]
    }
   ],
   "source": [
    "#Preprocessing the data\n",
    "from keras_preprocessing.image import ImageDataGenerator\n",
    "\n",
    "# ImageDataGenerator is used to generate training data as well as data augmentation\n",
    "train_datagen=ImageDataGenerator(\n",
    "    rescale=1./255, \n",
    "    validation_split=0.25,\n",
    "    horizontal_flip = True,    \n",
    "    zoom_range = 0.3,\n",
    "    width_shift_range = 0.3,\n",
    "    height_shift_range=0.3\n",
    "    )\n",
    "test_datagen = ImageDataGenerator(rescale=1./255)\n",
    "\n",
    "#Creating a Training Validation and Testing generator\n",
    "train_generator=train_datagen.flow_from_dataframe(\n",
    "    dataframe=train,\n",
    "    directory=\"/home/raghav/APTOS Kaggle Comp/train_images/\",\n",
    "    x_col=\"id_code\",\n",
    "    y_col=\"diagnosis\",\n",
    "    batch_size=batch_size,\n",
    "    shuffle=True,\n",
    "    class_mode=\"categorical\",\n",
    "    classes=lbls,\n",
    "    target_size=(img_size,img_size),\n",
    "subset='training')\n",
    "\n",
    "valid_generator=train_datagen.flow_from_dataframe(\n",
    "    dataframe=train,\n",
    "    directory=\"/home/raghav/APTOS Kaggle Comp/train_images/\",\n",
    "    x_col=\"id_code\",\n",
    "    y_col=\"diagnosis\",\n",
    "    batch_size=batch_size,\n",
    "    shuffle=True,\n",
    "    class_mode=\"categorical\", \n",
    "    classes=lbls,\n",
    "    target_size=(img_size,img_size),\n",
    "subset='validation')\n",
    "\n",
    "test_generator = test_datagen.flow_from_dataframe(\n",
    "    dataframe=test,\n",
    "    directory=\"/home/raghav/APTOS Kaggle Comp/train_images/\",\n",
    "    x_col=\"id_code\",\n",
    "    y_col=\"diagnosis\",\n",
    "    batch_size=batch_size,\n",
    "    shuffle=False,\n",
    "    class_mode=\"categorical\", \n",
    "    classes=lbls,\n",
    "    target_size=(img_size,img_size))\n",
    "\n"
   ]
  },
  {
   "cell_type": "code",
   "execution_count": 19,
   "metadata": {},
   "outputs": [
    {
     "data": {
      "text/plain": [
       "(64, 64, 3)"
      ]
     },
     "execution_count": 19,
     "metadata": {},
     "output_type": "execute_result"
    }
   ],
   "source": [
    "train_generator.image_shape"
   ]
  },
  {
   "cell_type": "markdown",
   "metadata": {},
   "source": [
    "# Creating a Model"
   ]
  },
  {
   "cell_type": "code",
   "execution_count": 20,
   "metadata": {},
   "outputs": [],
   "source": [
    "from tensorflow.keras.models import Sequential, Model\n",
    "from tensorflow.keras.callbacks import Callback, ModelCheckpoint\n",
    "from tensorflow.keras.callbacks import ReduceLROnPlateau, EarlyStopping\n",
    "from tensorflow.keras import regularizers\n",
    "from tensorflow.keras.layers import Dense, Flatten, Activation, Dropout, GlobalAveragePooling2D, Conv2D, MaxPooling2D"
   ]
  },
  {
   "cell_type": "code",
   "execution_count": 21,
   "metadata": {},
   "outputs": [],
   "source": [
    "\n",
    "#Funtion to create a model\n",
    "def create_model(img_size,activation_layers=\"relu\",padding=\"same\",\n",
    "                activation_output=\"softmax\",optimizer='adam',\n",
    "                loss='categorical_crossentropy',dropout=0.50):  \n",
    "    \n",
    "    model = Sequential()\n",
    "    model.add(Conv2D(64, kernel_size=3, activation=activation_layers, padding=padding,input_shape=(img_size,img_size,3)))\n",
    "    model.add(MaxPooling2D(pool_size=(2, 2)))\n",
    "    model.add(Conv2D(32, kernel_size=3, activation=activation_layers))\n",
    "    model.add(MaxPooling2D(pool_size=(2, 2)))\n",
    "    model.add(Conv2D(32, kernel_size=3, activation=activation_layers))\n",
    "    model.add(MaxPooling2D(pool_size=(2, 2)))\n",
    "    model.add(Flatten())\n",
    "    model.add(Dropout(dropout))\n",
    "    model.add(Dense(60,activation=activation_layers,kernel_regularizer=regularizers.l2(0.001)))\n",
    "    model.add(Dense(5, activation=activation_output))\n",
    "    \n",
    "    model.compile(optimizer=optimizer, loss=loss, metrics=['accuracy'])\n",
    "        \n",
    "    \n",
    "    return model\n",
    "\n",
    "#Funtion to adjust the learning rate based on validation loss threshold values\n",
    "def reduce_lr(monitor='val_loss',factor=0.2,patience = 10, min_lr=0.001):\n",
    "    \n",
    "    lr = ReduceLROnPlateau(monitor=monitor, factor=factor,\n",
    "                              patience=patience, min_lr=min_lr)\n",
    "    \n",
    "    return lr\n",
    "\n",
    "# Funtion to terminate early based on validation loss threshold values\n",
    "def early_stop(monitor='val_loss',mode='min',verbose=1,patience=10):\n",
    "    \n",
    "    es = EarlyStopping(monitor=monitor, mode=mode, verbose=verbose, patience=patience)\n",
    "    \n",
    "    return es"
   ]
  },
  {
   "cell_type": "code",
   "execution_count": 22,
   "metadata": {},
   "outputs": [
    {
     "name": "stdout",
     "output_type": "stream",
     "text": [
      "Epoch 1/100\n"
     ]
    },
    {
     "name": "stderr",
     "output_type": "stream",
     "text": [
      "WARNING: Logging before flag parsing goes to stderr.\n",
      "W0819 14:01:33.852379 139869587019584 deprecation.py:323] From /home/raghav/anaconda3/lib/python3.7/site-packages/tensorflow/python/ops/math_grad.py:1250: add_dispatch_support.<locals>.wrapper (from tensorflow.python.ops.array_ops) is deprecated and will be removed in a future version.\n",
      "Instructions for updating:\n",
      "Use tf.where in 2.0, which has the same broadcast rule as np.where\n"
     ]
    },
    {
     "name": "stdout",
     "output_type": "stream",
     "text": [
      "33/32 [==============================] - 128s 4s/step - loss: 1.3965 - accuracy: 0.4859 - val_loss: 1.2659 - val_accuracy: 0.4927\n",
      "Epoch 2/100\n",
      "33/32 [==============================] - 95s 3s/step - loss: 1.1858 - accuracy: 0.5590 - val_loss: 1.0942 - val_accuracy: 0.6259\n",
      "Epoch 3/100\n",
      "33/32 [==============================] - 109s 3s/step - loss: 1.0385 - accuracy: 0.6544 - val_loss: 1.0213 - val_accuracy: 0.6540\n",
      "Epoch 4/100\n",
      "33/32 [==============================] - 127s 4s/step - loss: 0.9686 - accuracy: 0.6812 - val_loss: 0.9332 - val_accuracy: 0.6732\n",
      "Epoch 5/100\n",
      "33/32 [==============================] - 100s 3s/step - loss: 0.9373 - accuracy: 0.6895 - val_loss: 0.9299 - val_accuracy: 0.6846\n",
      "Epoch 6/100\n",
      "33/32 [==============================] - 107s 3s/step - loss: 0.9086 - accuracy: 0.6942 - val_loss: 0.9124 - val_accuracy: 0.6781\n",
      "Epoch 7/100\n",
      "33/32 [==============================] - 127s 4s/step - loss: 0.8945 - accuracy: 0.7042 - val_loss: 0.9017 - val_accuracy: 0.6813\n",
      "Epoch 8/100\n",
      "33/32 [==============================] - 101s 3s/step - loss: 0.8737 - accuracy: 0.7026 - val_loss: 0.8996 - val_accuracy: 0.6839\n",
      "Epoch 9/100\n",
      "33/32 [==============================] - 106s 3s/step - loss: 0.8799 - accuracy: 0.7013 - val_loss: 0.8751 - val_accuracy: 0.6878\n",
      "Epoch 10/100\n",
      "33/32 [==============================] - 127s 4s/step - loss: 0.8575 - accuracy: 0.7054 - val_loss: 0.8549 - val_accuracy: 0.6957\n",
      "Epoch 11/100\n",
      "33/32 [==============================] - 99s 3s/step - loss: 0.8695 - accuracy: 0.7017 - val_loss: 0.8554 - val_accuracy: 0.6979\n",
      "Epoch 12/100\n",
      "33/32 [==============================] - 107s 3s/step - loss: 0.8683 - accuracy: 0.7048 - val_loss: 0.8608 - val_accuracy: 0.7002\n",
      "Epoch 13/100\n",
      "33/32 [==============================] - 120s 4s/step - loss: 0.8479 - accuracy: 0.7096 - val_loss: 0.8738 - val_accuracy: 0.6918\n",
      "Epoch 14/100\n",
      "33/32 [==============================] - 93s 3s/step - loss: 0.8200 - accuracy: 0.7213 - val_loss: 0.8557 - val_accuracy: 0.7022\n",
      "Epoch 15/100\n",
      "33/32 [==============================] - 101s 3s/step - loss: 0.8499 - accuracy: 0.7000 - val_loss: 0.8331 - val_accuracy: 0.6983\n",
      "Epoch 16/100\n",
      "33/32 [==============================] - 121s 4s/step - loss: 0.8354 - accuracy: 0.7115 - val_loss: 0.8565 - val_accuracy: 0.7015\n",
      "Epoch 17/100\n",
      "33/32 [==============================] - 100s 3s/step - loss: 0.8550 - accuracy: 0.7103 - val_loss: 0.8783 - val_accuracy: 0.6807\n",
      "Epoch 18/100\n",
      "33/32 [==============================] - 101s 3s/step - loss: 0.8241 - accuracy: 0.7127 - val_loss: 0.8572 - val_accuracy: 0.6947\n",
      "Epoch 19/100\n",
      "33/32 [==============================] - 120s 4s/step - loss: 0.8467 - accuracy: 0.7072 - val_loss: 0.8457 - val_accuracy: 0.7048\n",
      "Epoch 20/100\n",
      "33/32 [==============================] - 99s 3s/step - loss: 0.8269 - accuracy: 0.7170 - val_loss: 0.8406 - val_accuracy: 0.7090\n",
      "Epoch 21/100\n",
      "33/32 [==============================] - 100s 3s/step - loss: 0.8101 - accuracy: 0.7161 - val_loss: 0.8621 - val_accuracy: 0.7006\n",
      "Epoch 22/100\n",
      "33/32 [==============================] - 120s 4s/step - loss: 0.8284 - accuracy: 0.7133 - val_loss: 0.8464 - val_accuracy: 0.7009\n",
      "Epoch 23/100\n",
      "33/32 [==============================] - 100s 3s/step - loss: 0.8054 - accuracy: 0.7234 - val_loss: 0.8476 - val_accuracy: 0.7058\n",
      "Epoch 24/100\n",
      "33/32 [==============================] - 100s 3s/step - loss: 0.8366 - accuracy: 0.7105 - val_loss: 0.8428 - val_accuracy: 0.6953\n",
      "Epoch 25/100\n",
      "33/32 [==============================] - 114s 3s/step - loss: 0.8112 - accuracy: 0.7185 - val_loss: 0.8475 - val_accuracy: 0.7015\n",
      "Epoch 00025: early stopping\n"
     ]
    }
   ],
   "source": [
    "#Initializing the functions\n",
    "model = create_model(img_size)\n",
    "es = early_stop()\n",
    "lr = reduce_lr()\n",
    "\n",
    "#Fit the model to train data\n",
    "history = model.fit_generator(generator=train_generator,\n",
    "                                    validation_data=valid_generator,\n",
    "                                    steps_per_epoch=train.shape[0]/batch_size, \n",
    "                                    epochs=nb_epochs,\n",
    "                                    max_queue_size=16,\n",
    "                                    workers=4,\n",
    "                                    use_multiprocessing=True,\n",
    "                                    callbacks=[es,lr],\n",
    "                                    validation_steps=train.shape[0]/batch_size,  \n",
    "                                    verbose=1)"
   ]
  },
  {
   "cell_type": "code",
   "execution_count": 24,
   "metadata": {},
   "outputs": [
    {
     "name": "stdout",
     "output_type": "stream",
     "text": [
      "Model: \"sequential\"\n",
      "_________________________________________________________________\n",
      "Layer (type)                 Output Shape              Param #   \n",
      "=================================================================\n",
      "conv2d (Conv2D)              (None, 64, 64, 64)        1792      \n",
      "_________________________________________________________________\n",
      "max_pooling2d (MaxPooling2D) (None, 32, 32, 64)        0         \n",
      "_________________________________________________________________\n",
      "conv2d_1 (Conv2D)            (None, 30, 30, 32)        18464     \n",
      "_________________________________________________________________\n",
      "max_pooling2d_1 (MaxPooling2 (None, 15, 15, 32)        0         \n",
      "_________________________________________________________________\n",
      "conv2d_2 (Conv2D)            (None, 13, 13, 32)        9248      \n",
      "_________________________________________________________________\n",
      "max_pooling2d_2 (MaxPooling2 (None, 6, 6, 32)          0         \n",
      "_________________________________________________________________\n",
      "flatten (Flatten)            (None, 1152)              0         \n",
      "_________________________________________________________________\n",
      "dropout (Dropout)            (None, 1152)              0         \n",
      "_________________________________________________________________\n",
      "dense (Dense)                (None, 60)                69180     \n",
      "_________________________________________________________________\n",
      "dense_1 (Dense)              (None, 5)                 305       \n",
      "=================================================================\n",
      "Total params: 98,989\n",
      "Trainable params: 98,989\n",
      "Non-trainable params: 0\n",
      "_________________________________________________________________\n"
     ]
    }
   ],
   "source": [
    "model.summary()"
   ]
  },
  {
   "cell_type": "code",
   "execution_count": 25,
   "metadata": {},
   "outputs": [
    {
     "data": {
      "image/png": "[encoded data removed]",
      "text/plain": [
       "<Figure size 432x288 with 1 Axes>"
      ]
     },
     "metadata": {
      "needs_background": "light"
     },
     "output_type": "display_data"
    }
   ],
   "source": [
    "#Accuracy Plot\n",
    "\n",
    "plt.plot(history.history['accuracy'])\n",
    "plt.plot(history.history['val_accuracy'])\n",
    "plt.title('Model Accuracy')\n",
    "plt.ylabel('Accuracy')\n",
    "plt.xlabel('epoch')\n",
    "plt.legend(['Train', 'Test'], loc='upper left')\n",
    "plt.show()"
   ]
  },
  {
   "cell_type": "code",
   "execution_count": 25,
   "metadata": {},
   "outputs": [
    {
     "name": "stdout",
     "output_type": "stream",
     "text": [
      "dict_keys(['loss', 'accuracy', 'val_loss', 'val_accuracy'])\n"
     ]
    }
   ],
   "source": [
    "print(history.history.keys())"
   ]
  },
  {
   "cell_type": "code",
   "execution_count": 26,
   "metadata": {},
   "outputs": [
    {
     "data": {
      "image/png": "[encoded data removed]",
      "text/plain": [
       "<Figure size 432x288 with 1 Axes>"
      ]
     },
     "metadata": {
      "needs_background": "light"
     },
     "output_type": "display_data"
    }
   ],
   "source": [
    "#Loss Plot\n",
    "plt.plot(history.history['loss'])\n",
    "plt.plot(history.history['val_loss'])\n",
    "plt.title('Model Loss')\n",
    "plt.ylabel('Loss')\n",
    "plt.xlabel('epoch')\n",
    "plt.legend(['Train', 'Test'], loc='upper left')\n",
    "plt.show()"
   ]
  },
  {
   "cell_type": "code",
   "execution_count": 46,
   "metadata": {},
   "outputs": [],
   "source": [
    "model.save('regularized_model.h5')"
   ]
  },
  {
   "cell_type": "code",
   "execution_count": 27,
   "metadata": {},
   "outputs": [],
   "source": [
    "evaluation=model.evaluate_generator(test_generator)"
   ]
  },
  {
   "cell_type": "code",
   "execution_count": 28,
   "metadata": {},
   "outputs": [
    {
     "data": {
      "text/plain": [
       "[0.8072641640901566, 0.71934605]"
      ]
     },
     "execution_count": 28,
     "metadata": {},
     "output_type": "execute_result"
    }
   ],
   "source": [
    "evaluation"
   ]
  },
  {
   "cell_type": "code",
   "execution_count": 29,
   "metadata": {},
   "outputs": [
    {
     "data": {
      "text/html": [
       "<div>\n",
       "<style scoped>\n",
       "    .dataframe tbody tr th:only-of-type {\n",
       "        vertical-align: middle;\n",
       "    }\n",
       "\n",
       "    .dataframe tbody tr th {\n",
       "        vertical-align: top;\n",
       "    }\n",
       "\n",
       "    .dataframe thead th {\n",
       "        text-align: right;\n",
       "    }\n",
       "</style>\n",
       "<table border=\"1\" class=\"dataframe\">\n",
       "  <thead>\n",
       "    <tr style=\"text-align: right;\">\n",
       "      <th></th>\n",
       "      <th>id_code</th>\n",
       "      <th>path</th>\n",
       "    </tr>\n",
       "  </thead>\n",
       "  <tbody>\n",
       "    <tr>\n",
       "      <th>0</th>\n",
       "      <td>0005cfc8afb6.png</td>\n",
       "      <td>/home/raghav/APTOS Kaggle Comp/test_images/000...</td>\n",
       "    </tr>\n",
       "    <tr>\n",
       "      <th>1</th>\n",
       "      <td>003f0afdcd15.png</td>\n",
       "      <td>/home/raghav/APTOS Kaggle Comp/test_images/003...</td>\n",
       "    </tr>\n",
       "    <tr>\n",
       "      <th>2</th>\n",
       "      <td>006efc72b638.png</td>\n",
       "      <td>/home/raghav/APTOS Kaggle Comp/test_images/006...</td>\n",
       "    </tr>\n",
       "    <tr>\n",
       "      <th>3</th>\n",
       "      <td>00836aaacf06.png</td>\n",
       "      <td>/home/raghav/APTOS Kaggle Comp/test_images/008...</td>\n",
       "    </tr>\n",
       "    <tr>\n",
       "      <th>4</th>\n",
       "      <td>009245722fa4.png</td>\n",
       "      <td>/home/raghav/APTOS Kaggle Comp/test_images/009...</td>\n",
       "    </tr>\n",
       "    <tr>\n",
       "      <th>5</th>\n",
       "      <td>009c019a7309.png</td>\n",
       "      <td>/home/raghav/APTOS Kaggle Comp/test_images/009...</td>\n",
       "    </tr>\n",
       "    <tr>\n",
       "      <th>6</th>\n",
       "      <td>010d915e229a.png</td>\n",
       "      <td>/home/raghav/APTOS Kaggle Comp/test_images/010...</td>\n",
       "    </tr>\n",
       "    <tr>\n",
       "      <th>7</th>\n",
       "      <td>0111b949947e.png</td>\n",
       "      <td>/home/raghav/APTOS Kaggle Comp/test_images/011...</td>\n",
       "    </tr>\n",
       "    <tr>\n",
       "      <th>8</th>\n",
       "      <td>01499815e469.png</td>\n",
       "      <td>/home/raghav/APTOS Kaggle Comp/test_images/014...</td>\n",
       "    </tr>\n",
       "    <tr>\n",
       "      <th>9</th>\n",
       "      <td>0167076e7089.png</td>\n",
       "      <td>/home/raghav/APTOS Kaggle Comp/test_images/016...</td>\n",
       "    </tr>\n",
       "  </tbody>\n",
       "</table>\n",
       "</div>"
      ],
      "text/plain": [
       "            id_code                                               path\n",
       "0  0005cfc8afb6.png  /home/raghav/APTOS Kaggle Comp/test_images/000...\n",
       "1  003f0afdcd15.png  /home/raghav/APTOS Kaggle Comp/test_images/003...\n",
       "2  006efc72b638.png  /home/raghav/APTOS Kaggle Comp/test_images/006...\n",
       "3  00836aaacf06.png  /home/raghav/APTOS Kaggle Comp/test_images/008...\n",
       "4  009245722fa4.png  /home/raghav/APTOS Kaggle Comp/test_images/009...\n",
       "5  009c019a7309.png  /home/raghav/APTOS Kaggle Comp/test_images/009...\n",
       "6  010d915e229a.png  /home/raghav/APTOS Kaggle Comp/test_images/010...\n",
       "7  0111b949947e.png  /home/raghav/APTOS Kaggle Comp/test_images/011...\n",
       "8  01499815e469.png  /home/raghav/APTOS Kaggle Comp/test_images/014...\n",
       "9  0167076e7089.png  /home/raghav/APTOS Kaggle Comp/test_images/016..."
      ]
     },
     "execution_count": 29,
     "metadata": {},
     "output_type": "execute_result"
    }
   ],
   "source": [
    "test_dir = os.path.join(base_image_dir,'test_images/')\n",
    "test_data = pd.read_csv(os.path.join(base_image_dir, 'test.csv'))\n",
    "test_data['path'] = test_data['id_code'].map(lambda x: os.path.join(test_dir,'{}.png'.format(x)))\n",
    "test_data[\"id_code\"]=test_data[\"id_code\"].apply(lambda x:x+\".png\")\n",
    "#data = data.drop(columns=['id_code'])\n",
    "#data = data.sample(frac=1).reset_index(drop=True) #shuffle dataframe\n",
    "test_data.head(10)"
   ]
  },
  {
   "cell_type": "code",
   "execution_count": 32,
   "metadata": {},
   "outputs": [
    {
     "name": "stdout",
     "output_type": "stream",
     "text": [
      "Found 1928 images.\n"
     ]
    }
   ],
   "source": [
    "comp_generator = test_datagen.flow_from_dataframe(\n",
    "    dataframe=test_data,\n",
    "    directory=\"/home/raghav/APTOS Kaggle Comp/test_images/\",\n",
    "    x_col=\"id_code\",\n",
    "    batch_size=1,\n",
    "    shuffle=False,\n",
    "    class_mode=None, \n",
    "    target_size=(img_size,img_size))"
   ]
  },
  {
   "cell_type": "code",
   "execution_count": 33,
   "metadata": {},
   "outputs": [],
   "source": [
    "comp_generator.reset()\n",
    "predict=model.predict_generator(comp_generator, steps = len(comp_generator.filenames))"
   ]
  },
  {
   "cell_type": "code",
   "execution_count": 34,
   "metadata": {},
   "outputs": [
    {
     "data": {
      "text/plain": [
       "(1928, 5)"
      ]
     },
     "execution_count": 34,
     "metadata": {},
     "output_type": "execute_result"
    }
   ],
   "source": [
    "predict.shape"
   ]
  },
  {
   "cell_type": "code",
   "execution_count": 42,
   "metadata": {},
   "outputs": [],
   "source": [
    "filenames=comp_generator.filenames\n",
    "results=pd.DataFrame({\"id_code\":filenames,\n",
    "                      \"diagnosis\":np.argmax(predict,axis=1)})\n"
   ]
  },
  {
   "cell_type": "code",
   "execution_count": 44,
   "metadata": {},
   "outputs": [],
   "source": [
    "results['id_code'] = results['id_code'].map(lambda x: str(x)[:-4])\n",
    "results.to_csv(\"submission.csv\",index=False)"
   ]
  },
  {
   "cell_type": "code",
   "execution_count": 45,
   "metadata": {},
   "outputs": [
    {
     "data": {
      "text/plain": [
       "<matplotlib.axes._subplots.AxesSubplot at 0x7f34a83cccc0>"
      ]
     },
     "execution_count": 45,
     "metadata": {},
     "output_type": "execute_result"
    },
    {
     "data": {
      "image/png": "[encoded data removed]",
      "text/plain": [
       "<Figure size 864x360 with 1 Axes>"
      ]
     },
     "metadata": {
      "needs_background": "light"
     },
     "output_type": "display_data"
    }
   ],
   "source": []
  },
  {
   "cell_type": "code",
   "execution_count": 63,
   "metadata": {},
   "outputs": [],
   "source": [
    "from tensorflow.keras.utils import plot_model\n",
    "import pydot\n",
    "import graphviz"
   ]
  },
  {
   "cell_type": "code",
   "execution_count": 64,
   "metadata": {},
   "outputs": [
    {
     "name": "stdout",
     "output_type": "stream",
     "text": [
      "Failed to import pydot. You must install pydot and graphviz for `pydotprint` to work.\n"
     ]
    }
   ],
   "source": [
    "plot_model(model,show_shapes=True,to_file='model.png')"
   ]
  },
  {
   "cell_type": "code",
   "execution_count": null,
   "metadata": {},
   "outputs": [],
   "source": []
  }
 ],
 "metadata": {
  "kernelspec": {
   "display_name": "Python 3",
   "language": "python",
   "name": "python3"
  },
  "language_info": {
   "codemirror_mode": {
    "name": "ipython",
    "version": 3
   },
   "file_extension": ".py",
   "mimetype": "text/x-python",
   "name": "python",
   "nbconvert_exporter": "python",
   "pygments_lexer": "ipython3",
   "version": "3.6.8"
  }
 },
 "nbformat": 4,
 "nbformat_minor": 2
}
