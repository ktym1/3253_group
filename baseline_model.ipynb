{
 "cells": [
  {
   "cell_type": "markdown",
   "metadata": {},
   "source": [
    "# Baseline Model "
   ]
  },
  {
   "cell_type": "code",
   "execution_count": 1,
   "metadata": {},
   "outputs": [
    {
     "name": "stdout",
     "output_type": "stream",
     "text": [
      "Found 2747 images belonging to 5 classes.\n",
      "Found 915 images belonging to 5 classes.\n"
     ]
    }
   ],
   "source": [
    "import os\n",
    "import pandas as pd\n",
    "%matplotlib inline\n",
    "import matplotlib.pyplot as plt\n",
    "import numpy as np\n",
    "import tensorflow as tf\n",
    "from tensorflow import keras\n",
    "import warnings\n",
    "warnings.filterwarnings(\"ignore\")\n",
    "\n",
    "\n",
    "#Setting up the directory and loading the data\n",
    "base_image_dir = os.path.join('/Users/abhisheknajbile/Documents/TermProject_3253/input/')\n",
    "train_dir = os.path.join(base_image_dir,'train_images/')\n",
    "data = pd.read_csv(os.path.join(base_image_dir, 'train.csv'))\n",
    "data[\"diagnosis\"] = data[\"diagnosis\"].astype(str)\n",
    "data['path'] = data['id_code'].map(lambda x: os.path.join(train_dir,'{}.png'.format(x)))\n",
    "data[\"id_code\"]=data[\"id_code\"].apply(lambda x:x+\".png\")\n",
    "\n",
    "\n",
    "#Intializing the variables needed for the model\n",
    "nb_classes = 5\n",
    "lbls = list(map(str, range(nb_classes)))\n",
    "batch_size = 100\n",
    "img_size = 224\n",
    "nb_epochs = 100\n",
    "\n",
    "\n",
    "#Preprocessing the data\n",
    "from keras_preprocessing.image import ImageDataGenerator\n",
    "\n",
    "# ImageDataGenerator is used to generate training data as well as data augmentation\n",
    "train_datagen=ImageDataGenerator(\n",
    "    rescale=1./255,\n",
    "    validation_split=0.25\n",
    "    )\n",
    "\n",
    "#Creating a Training Validation and Testing generator\n",
    "train_generator=train_datagen.flow_from_dataframe(\n",
    "    dataframe=data,\n",
    "    directory=\"/Users/abhisheknajbile/Documents/TermProject_3253/input/train_images/\",\n",
    "    x_col=\"id_code\",\n",
    "    y_col=\"diagnosis\",\n",
    "    batch_size=batch_size,\n",
    "    shuffle=True,\n",
    "    class_mode=\"categorical\",\n",
    "    classes=lbls,\n",
    "    target_size=(img_size,img_size),\n",
    "subset='training')\n",
    "\n",
    "valid_generator=train_datagen.flow_from_dataframe(\n",
    "    dataframe=data,\n",
    "    directory=\"/Users/abhisheknajbile/Documents/TermProject_3253/input/train_images/\",\n",
    "    x_col=\"id_code\",\n",
    "    y_col=\"diagnosis\",\n",
    "    batch_size=batch_size,\n",
    "    shuffle=True,\n",
    "    class_mode=\"categorical\", \n",
    "    classes=lbls,\n",
    "    target_size=(img_size,img_size),\n",
    "subset='validation')\n"
   ]
  },
  {
   "cell_type": "markdown",
   "metadata": {},
   "source": [
    "# Creating a Baseline model\n",
    "\n",
    "Please note this model is very large and takes an upward of 13hrs to run on a Geforce RTX 2080Ti graphics card with 11GB memory and 64GB of computer RAM."
   ]
  },
  {
   "cell_type": "code",
   "execution_count": 2,
   "metadata": {},
   "outputs": [],
   "source": [
    "from tensorflow.keras.models import Sequential\n",
    "from tensorflow.keras.layers import Dense, Flatten, Activation, GlobalAveragePooling2D, Conv2D, MaxPooling2D"
   ]
  },
  {
   "cell_type": "code",
   "execution_count": 3,
   "metadata": {},
   "outputs": [],
   "source": [
    "#Funtion to create a model\n",
    "def create_model(img_size,activation_layers=\"relu\",padding=\"same\",\n",
    "                activation_output=\"softmax\",optimizer='adam',\n",
    "                loss='categorical_crossentropy'):  \n",
    "    \n",
    "    model = Sequential()\n",
    "    model.add(Conv2D(64, kernel_size=3, activation=activation_layers, padding=padding,input_shape=(img_size,img_size,3)))\n",
    "    model.add(MaxPooling2D(pool_size=(2, 2)))\n",
    "    model.add(Conv2D(32, kernel_size=3, activation=activation_layers))\n",
    "    model.add(MaxPooling2D(pool_size=(2, 2)))\n",
    "    model.add(Conv2D(32, kernel_size=3, activation=activation_layers))\n",
    "    model.add(MaxPooling2D(pool_size=(2, 2)))\n",
    "    model.add(Flatten())\n",
    "    model.add(Dense(512,activation=activation_layers))\n",
    "    model.add(Dense(128,activation=activation_layers))\n",
    "    model.add(Dense(5, activation=activation_output))\n",
    "    \n",
    "    model.compile(optimizer=optimizer, loss=loss, metrics=['accuracy'])\n",
    "        \n",
    "    \n",
    "    return model\n",
    "\n",
    "model = create_model(img_size)"
   ]
  },
  {
   "cell_type": "code",
   "execution_count": 4,
   "metadata": {},
   "outputs": [
    {
     "name": "stdout",
     "output_type": "stream",
     "text": [
      "Model: \"sequential\"\n",
      "_________________________________________________________________\n",
      "Layer (type)                 Output Shape              Param #   \n",
      "=================================================================\n",
      "conv2d (Conv2D)              (None, 224, 224, 64)      1792      \n",
      "_________________________________________________________________\n",
      "max_pooling2d (MaxPooling2D) (None, 112, 112, 64)      0         \n",
      "_________________________________________________________________\n",
      "conv2d_1 (Conv2D)            (None, 110, 110, 32)      18464     \n",
      "_________________________________________________________________\n",
      "max_pooling2d_1 (MaxPooling2 (None, 55, 55, 32)        0         \n",
      "_________________________________________________________________\n",
      "conv2d_2 (Conv2D)            (None, 53, 53, 32)        9248      \n",
      "_________________________________________________________________\n",
      "max_pooling2d_2 (MaxPooling2 (None, 26, 26, 32)        0         \n",
      "_________________________________________________________________\n",
      "flatten (Flatten)            (None, 21632)             0         \n",
      "_________________________________________________________________\n",
      "dense (Dense)                (None, 512)               11076096  \n",
      "_________________________________________________________________\n",
      "dense_1 (Dense)              (None, 128)               65664     \n",
      "_________________________________________________________________\n",
      "dense_2 (Dense)              (None, 5)                 645       \n",
      "=================================================================\n",
      "Total params: 11,171,909\n",
      "Trainable params: 11,171,909\n",
      "Non-trainable params: 0\n",
      "_________________________________________________________________\n"
     ]
    }
   ],
   "source": [
    "model.summary()"
   ]
  },
  {
   "cell_type": "code",
   "execution_count": null,
   "metadata": {},
   "outputs": [],
   "source": [
    "history = model.fit_generator(generator=train_generator,\n",
    "                                    validation_data=valid_generator,\n",
    "                                    steps_per_epoch=train.shape[0]/batch_size, \n",
    "                                    epochs=nb_epochs,\n",
    "                                    max_queue_size=16,\n",
    "                                    workers=4,\n",
    "                                    use_multiprocessing=True,\n",
    "                                    validation_steps=train.shape[0]/batch_size,  \n",
    "                                    verbose=1)"
   ]
  },
  {
   "cell_type": "code",
   "execution_count": null,
   "metadata": {},
   "outputs": [],
   "source": [
    "#Accuracy Plot\n",
    "\n",
    "plt.plot(history.history['accuracy'])\n",
    "plt.plot(history.history['val_accuracy'])\n",
    "plt.title('Model Accuracy')\n",
    "plt.ylabel('Accuracy')\n",
    "plt.xlabel('epoch')\n",
    "plt.legend(['Train', 'Test'], loc='upper left')\n",
    "plt.show()\n"
   ]
  },
  {
   "cell_type": "code",
   "execution_count": null,
   "metadata": {},
   "outputs": [],
   "source": [
    "#Loss Plot\n",
    "plt.plot(history.history['loss'])\n",
    "plt.plot(history.history['val_loss'])\n",
    "plt.title('Model Loss')\n",
    "plt.ylabel('Loss')\n",
    "plt.xlabel('epoch')\n",
    "plt.legend(['Train', 'Test'], loc='upper left')\n",
    "plt.show()"
   ]
  }
 ],
 "metadata": {
  "kernelspec": {
   "display_name": "Python 3",
   "language": "python",
   "name": "python3"
  },
  "language_info": {
   "codemirror_mode": {
    "name": "ipython",
    "version": 3
   },
   "file_extension": ".py",
   "mimetype": "text/x-python",
   "name": "python",
   "nbconvert_exporter": "python",
   "pygments_lexer": "ipython3",
   "version": "3.6.8"
  }
 },
 "nbformat": 4,
 "nbformat_minor": 2
}
